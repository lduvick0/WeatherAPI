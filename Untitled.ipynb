{
 "cells": [
  {
   "cell_type": "code",
   "execution_count": 1,
   "id": "0bb48edb-f355-4c9e-b696-f07f87271495",
   "metadata": {},
   "outputs": [],
   "source": [
    "from datetime import date, datetime, timedelta\n",
    "\n",
    "import requests\n",
    "import pandas as pd\n",
    "import numpy as np\n",
    "from pprint import pprint\n",
    "import seaborn as sns\n",
    "from matplotlib import pyplot as plt\n",
    "from matplotlib.ticker import FormatStrFormatter"
   ]
  },
  {
   "cell_type": "code",
   "execution_count": 2,
   "id": "4ddd84f9-b8e3-4de1-a528-677924dd44bc",
   "metadata": {},
   "outputs": [],
   "source": [
    "def geocode_location(city,country):\n",
    "    base_url=\"https://geocode.xyz\"\n",
    "    request_url=f\"{base_url}/city%20{country}\"\n",
    "    params ={\"json\":1}\n",
    "\n",
    "    try:\n",
    "        r= requests.get(request_url, params=params).json()\n",
    "        print(r)\n",
    "        return(float(r['latt']),float(r['longt']))\n",
    "    except:\n",
    "        print(\"error\")"
   ]
  },
  {
   "cell_type": "code",
   "execution_count": null,
   "id": "5ab44122-ef38-4114-9132-892cc511114c",
   "metadata": {},
   "outputs": [],
   "source": []
  }
 ],
 "metadata": {
  "kernelspec": {
   "display_name": "Python 3 (ipykernel)",
   "language": "python",
   "name": "python3"
  },
  "language_info": {
   "codemirror_mode": {
    "name": "ipython",
    "version": 3
   },
   "file_extension": ".py",
   "mimetype": "text/x-python",
   "name": "python",
   "nbconvert_exporter": "python",
   "pygments_lexer": "ipython3",
   "version": "3.11.5"
  }
 },
 "nbformat": 4,
 "nbformat_minor": 5
}
